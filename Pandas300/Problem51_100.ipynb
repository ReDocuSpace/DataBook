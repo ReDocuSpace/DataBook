{
 "cells": [
  {
   "cell_type": "code",
   "execution_count": 7,
   "metadata": {},
   "outputs": [
    {
     "data": {
      "text/plain": [
       "array([[0],\n",
       "       [1],\n",
       "       [2]])"
      ]
     },
     "execution_count": 7,
     "metadata": {},
     "output_type": "execute_result"
    }
   ],
   "source": [
    "# https://wikidocs.net/book/4852\n",
    "\n",
    "# 01 ~ 10\n",
    "\n",
    "#1. 넘파이 모듈을 np라는 이름으로 임포트해보세요.\n",
    "import numpy as np\n",
    "\n",
    "#2. 리스트를 넘파이의 ndarray 객체로 변환해보세요.\n",
    "data = [1,2,3]\n",
    "np.array(data)\n",
    "\n",
    "#3 0부터 99까지의 정수가 저장된 ndarray 객체를 만들어 보세요.\n",
    "arr = np.arange(100)\n",
    "\n",
    "#4. 구구단 3단의 결과가 저장된 ndarray 객체를 만들어 보세요.\n",
    "arr = np.arange(1,10) * 3\n",
    "\n",
    "#5. 1000보다 작은 짝수가 저장된 ndarray 객체를 만들어 보세요.\n",
    "arr = np.arange(2,1000,2)\n",
    "\n",
    "#6. 0부터 1까지 0.1 간격으로 구성된 ndarray를 생성해보세요. 1은 포함되지 않습니다.\n",
    "arr = np.arange(0,1,0.1)\n",
    "\n",
    "#7. 리스트에는 6개의 데이터가 저장돼 있습니다. 다음과 같이 2행 3열의 ndarray로 변환하세요.\n",
    "data = [0, 1, 2, 3, 4, 5]\n",
    "arr = np.array(data)\n",
    "arr.reshape(2,3)\n",
    "\n",
    "#8. 다음의 2차원 ndarray 1차원 ndarray로 변환하세요.\n",
    "arr = np.array([\n",
    "    [0,1,2],\n",
    "    [3,4,5]\n",
    "])\n",
    "\n",
    "arr.reshape(6)\n",
    "arr.flatten()\n",
    "\n",
    "#9. 주어진 ndarray를 다음과 같이 변경해 보세요.\n",
    "arr = np.arange(3)\n",
    "arr.reshape(3,1)\n",
    "\n",
    "#10. 에러의 원인을 설명하세요.\n",
    "#np.arange(6).reshape(2, 4)\n",
    "# 6개의 데이터를 (2 X 4) 데이터에 넣는 도중 데이터의 양이 부족해서 오류가 난다.\n"
   ]
  },
  {
   "cell_type": "code",
   "execution_count": 21,
   "metadata": {},
   "outputs": [
    {
     "name": "stderr",
     "output_type": "stream",
     "text": [
      "C:\\Users\\GJ\\AppData\\Local\\Temp\\ipykernel_7220\\1018640204.py:37: DeprecationWarning: NumPy will stop allowing conversion of out-of-bound Python integers to integer arrays.  The conversion of 300 to uint8 will fail in the future.\n",
      "For the old behavior, usually:\n",
      "    np.array(value).astype(dtype)`\n",
      "will give the desired result (the cast overflows).\n",
      "  a = np.array( [ 255, 300, 128], dtype=np.uint8 )\n"
     ]
    },
    {
     "data": {
      "text/plain": [
       "array([255,  44, 128], dtype=uint8)"
      ]
     },
     "execution_count": 21,
     "metadata": {},
     "output_type": "execute_result"
    }
   ],
   "source": [
    "# 11 ~ 20\n",
    "\n",
    "#11. 다음과 같이 2차원 ndarray 객체를 정의하세요.\n",
    "L = [[0, 1, 2],[3, 4, 5]]\n",
    "arr = np.array(L)\n",
    "\n",
    "#12. 1이 20개 저장된 아래의 ndarray 객체를 만들어 보세요.\n",
    "\n",
    "np.ones(20,dtype=int)\n",
    "\n",
    "#13. 4행 5열로 저장된 아래의 ndarray 객체를 만들어 보세요.\n",
    "np.ones(20,dtype=int).reshape(4,5)\n",
    "\n",
    "#14. 255로 채워진 10X10 크기의 ndarray 객체를 생성하세요.\n",
    "np.ones(100,dtype=int).reshape(10,10) * 255\n",
    "\n",
    "#15. 3x4 (행x열) 크기의 0으로 채워진 배열을 생생해보세요.\n",
    "np.zeros(12,dtype=int).reshape(3,4)\n",
    "\n",
    "#16. [1, 2, 3]을 np.int32 타입의 ndarray 배열로 생성하세요.\n",
    "L = [1,2,3]\n",
    "np.array(L,dtype=np.int32)\n",
    "\n",
    "#17. 다음 배열의 데이터 타입을 확인해보세요.\n",
    "arr = np.array([1, 2, 3])\n",
    "arr.dtype\n",
    "\n",
    "#18. 다음 배열의 데이터 타입을 확인해보세요.\n",
    "arr = np.array(['1', '2', '3'])\n",
    "arr.dtype\n",
    "\n",
    "#19. 다음 데이터를 np.int16 타입의 배열로 형변환하세요.\n",
    "arr = np.array([1, 2, 3])\n",
    "arr.astype(dtype=np.int64)\n",
    "\n",
    "#20. 300이 44로 출력되는 이유를 설명하세요.\n",
    "a = np.array( [ 255, 300, 128], dtype=np.uint8 )\n",
    "a # 결과값[255  44 128]\n",
    "# 300 - 255 - 1"
   ]
  },
  {
   "cell_type": "code",
   "execution_count": 3,
   "metadata": {},
   "outputs": [
    {
     "data": {
      "text/plain": [
       "20"
      ]
     },
     "execution_count": 3,
     "metadata": {},
     "output_type": "execute_result"
    }
   ],
   "source": [
    "# 21 ~ 30\n",
    "\n",
    "#21\n",
    "#22\n",
    "#23\n",
    "#24\n",
    "#25\n",
    "#26\n",
    "#27\n",
    "#28\n",
    "#29\n",
    "#30"
   ]
  },
  {
   "cell_type": "code",
   "execution_count": null,
   "metadata": {},
   "outputs": [
    {
     "data": {
      "text/plain": [
       "54.5"
      ]
     },
     "metadata": {},
     "output_type": "display_data"
    }
   ],
   "source": [
    "# 31 ~ 40\n",
    "\n",
    "#21\n",
    "#22\n",
    "#23\n",
    "#24\n",
    "#25\n",
    "#26\n",
    "#27\n",
    "#28\n",
    "#29\n",
    "#30"
   ]
  },
  {
   "cell_type": "code",
   "execution_count": null,
   "metadata": {},
   "outputs": [],
   "source": [
    "# 41 ~ 50\n",
    "\n",
    "#21\n",
    "#22\n",
    "#23\n",
    "#24\n",
    "#25\n",
    "#26\n",
    "#27\n",
    "#28\n",
    "#29\n",
    "#30"
   ]
  },
  {
   "cell_type": "code",
   "execution_count": null,
   "metadata": {},
   "outputs": [],
   "source": [
    "# 51 ~ 60\n",
    "\n",
    "#21\n",
    "#22\n",
    "#23\n",
    "#24\n",
    "#25\n",
    "#26\n",
    "#27\n",
    "#28\n",
    "#29\n",
    "#30"
   ]
  },
  {
   "cell_type": "code",
   "execution_count": null,
   "metadata": {},
   "outputs": [],
   "source": [
    "# 61 ~ 70\n",
    "\n",
    "#21\n",
    "#22\n",
    "#23\n",
    "#24\n",
    "#25\n",
    "#26\n",
    "#27\n",
    "#28\n",
    "#29\n",
    "#30"
   ]
  },
  {
   "cell_type": "code",
   "execution_count": null,
   "metadata": {},
   "outputs": [],
   "source": [
    "# 71 ~ 80\n",
    "\n",
    "#21\n",
    "#22\n",
    "#23\n",
    "#24\n",
    "#25\n",
    "#26\n",
    "#27\n",
    "#28\n",
    "#29\n",
    "#30"
   ]
  },
  {
   "cell_type": "code",
   "execution_count": null,
   "metadata": {},
   "outputs": [],
   "source": [
    "# 81 ~ 90\n",
    "\n",
    "#21\n",
    "#22\n",
    "#23\n",
    "#24\n",
    "#25\n",
    "#26\n",
    "#27\n",
    "#28\n",
    "#29\n",
    "#30"
   ]
  },
  {
   "cell_type": "code",
   "execution_count": null,
   "metadata": {},
   "outputs": [],
   "source": [
    "# 91 ~ 100\n",
    "\n",
    "#21\n",
    "#22\n",
    "#23\n",
    "#24\n",
    "#25\n",
    "#26\n",
    "#27\n",
    "#28\n",
    "#29\n",
    "#30"
   ]
  },
  {
   "cell_type": "code",
   "execution_count": null,
   "metadata": {},
   "outputs": [],
   "source": [
    "# 101 ~ 110\n",
    "\n",
    "#101\n",
    "#102\n",
    "#103\n",
    "#104\n",
    "#105\n",
    "#106\n",
    "#107\n",
    "#108\n",
    "#109\n",
    "#110"
   ]
  },
  {
   "cell_type": "code",
   "execution_count": null,
   "metadata": {},
   "outputs": [],
   "source": [
    "# 111 ~ 120\n",
    "\n",
    "#101\n",
    "#102\n",
    "#103\n",
    "#104\n",
    "#105\n",
    "#106\n",
    "#107\n",
    "#108\n",
    "#109\n",
    "#110"
   ]
  },
  {
   "cell_type": "code",
   "execution_count": null,
   "metadata": {},
   "outputs": [],
   "source": [
    "# 121 ~ 130\n",
    "\n",
    "#101\n",
    "#102\n",
    "#103\n",
    "#104\n",
    "#105\n",
    "#106\n",
    "#107\n",
    "#108\n",
    "#109\n",
    "#110"
   ]
  },
  {
   "cell_type": "code",
   "execution_count": null,
   "metadata": {},
   "outputs": [],
   "source": [
    "# 131 ~ 140\n",
    "\n",
    "#101\n",
    "#102\n",
    "#103\n",
    "#104\n",
    "#105\n",
    "#106\n",
    "#107\n",
    "#108\n",
    "#109\n",
    "#110"
   ]
  },
  {
   "cell_type": "code",
   "execution_count": null,
   "metadata": {},
   "outputs": [],
   "source": [
    "# 101 ~ 110\n",
    "\n",
    "#101\n",
    "#102\n",
    "#103\n",
    "#104\n",
    "#105\n",
    "#106\n",
    "#107\n",
    "#108\n",
    "#109\n",
    "#110"
   ]
  },
  {
   "cell_type": "code",
   "execution_count": null,
   "metadata": {},
   "outputs": [],
   "source": [
    "# 101 ~ 110\n",
    "\n",
    "#101\n",
    "#102\n",
    "#103\n",
    "#104\n",
    "#105\n",
    "#106\n",
    "#107\n",
    "#108\n",
    "#109\n",
    "#110"
   ]
  }
 ],
 "metadata": {
  "kernelspec": {
   "display_name": "base",
   "language": "python",
   "name": "python3"
  },
  "language_info": {
   "codemirror_mode": {
    "name": "ipython",
    "version": 3
   },
   "file_extension": ".py",
   "mimetype": "text/x-python",
   "name": "python",
   "nbconvert_exporter": "python",
   "pygments_lexer": "ipython3",
   "version": "3.11.5"
  }
 },
 "nbformat": 4,
 "nbformat_minor": 2
}
